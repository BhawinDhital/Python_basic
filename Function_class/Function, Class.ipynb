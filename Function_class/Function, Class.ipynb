{
 "cells": [
  {
   "cell_type": "code",
   "execution_count": 1,
   "metadata": {},
   "outputs": [
    {
     "name": "stdout",
     "output_type": "stream",
     "text": [
      "800\n",
      "5\n",
      "8\n"
     ]
    }
   ],
   "source": [
    "class bhawin:\n",
    "    def sum(a,b,c):\n",
    "        return a*b+b*c\n",
    "    def substraction(x,y):\n",
    "        return x-y\n",
    "    def multiplication(a):\n",
    "        return a*a*a\n",
    "p1=bhawin\n",
    "p2=bhawin\n",
    "p3=bhawin\n",
    "print(p1.sum(10,20,30))\n",
    "print(p2.substraction(10,5))\n",
    "print(p3.multiplication(2))"
   ]
  },
  {
   "cell_type": "code",
   "execution_count": 7,
   "metadata": {},
   "outputs": [
    {
     "name": "stdout",
     "output_type": "stream",
     "text": [
      "honda is a grey car worth $10000.00.\n"
     ]
    }
   ],
   "source": [
    "class vehicle:\n",
    "    name  = \"honda\"\n",
    "    kind = \"car\"\n",
    "    color = 'grey'\n",
    "    value = 10000.0\n",
    "    def description(self):\n",
    "        price =\"%s is a %s %s worth $%.2f.\"%(self.name,self.color,self.kind,self.value)\n",
    "        return price\n",
    "car1 = vehicle()\n",
    "print(car1.description())\n",
    "    "
   ]
  },
  {
   "cell_type": "markdown",
   "metadata": {},
   "source": [
    "# Scope and namespaces example"
   ]
  },
  {
   "cell_type": "code",
   "execution_count": 8,
   "metadata": {},
   "outputs": [
    {
     "name": "stdout",
     "output_type": "stream",
     "text": [
      "after local assignment:  test spam \n",
      "after nonlocal assignment: nonlocal spam\n",
      "after global assignment: nonlocal spam\n",
      " In global scope:  global spam \n"
     ]
    }
   ],
   "source": [
    "def scope_test():\n",
    "    def do_local():\n",
    "        spam = \"local spam\"\n",
    "    def do_nonlocal():\n",
    "        nonlocal spam\n",
    "        spam = \"nonlocal spam\"\n",
    "    def do_global():\n",
    "        global spam\n",
    "        spam = \" global spam \"\n",
    "    spam =\" test spam \"\n",
    "    do_local()\n",
    "    print(\"after local assignment:\",spam)\n",
    "    do_nonlocal()\n",
    "    print(\"after nonlocal assignment:\",spam)\n",
    "    do_global()\n",
    "    print(\"after global assignment:\",spam)\n",
    "scope_test()\n",
    "print(\" In global scope:\",spam)"
   ]
  },
  {
   "cell_type": "markdown",
   "metadata": {},
   "source": [
    "# constructors in python"
   ]
  },
  {
   "cell_type": "code",
   "execution_count": 10,
   "metadata": {},
   "outputs": [
    {
     "name": "stdout",
     "output_type": "stream",
     "text": [
      "5 0 10\n"
     ]
    }
   ],
   "source": [
    "class complex_number:\n",
    "    def __init__(self,r=0,i=0):\n",
    "        self.real = r\n",
    "        self.image = i\n",
    "    def getData(self):\n",
    "        print(\"{0}+{1}\".format(self.real,self.image))\n",
    "c1=complex_number(2,3)\n",
    "c2=complex_number(5)\n",
    "c2.attr=10\n",
    "print(c2.real,c2.image,c2.attr)"
   ]
  },
  {
   "cell_type": "markdown",
   "metadata": {},
   "source": [
    "# Insert a list into a function"
   ]
  },
  {
   "cell_type": "code",
   "execution_count": 12,
   "metadata": {},
   "outputs": [
    {
     "name": "stdout",
     "output_type": "stream",
     "text": [
      "[1, 4, 9, 16, 25, 36]\n"
     ]
    }
   ],
   "source": [
    "list1 = [1,2,3,4,5,6]\n",
    "def jlab(lab):\n",
    "    list = []\n",
    "    for i in lab:\n",
    "        list.append(i*i)\n",
    "    return list\n",
    "print(jlab(list1))"
   ]
  },
  {
   "cell_type": "code",
   "execution_count": 13,
   "metadata": {},
   "outputs": [
    {
     "name": "stdout",
     "output_type": "stream",
     "text": [
      "[49, 9, 1, 25]\n"
     ]
    }
   ],
   "source": [
    "list2 = [1,3,5,7]\n",
    "def reverse(abc):\n",
    "    list3 = []\n",
    "    for i in abc:\n",
    "        list3.append(i**2)\n",
    "        list3=list3[::-1]\n",
    "    return list3\n",
    "print(reverse(list2))"
   ]
  },
  {
   "cell_type": "code",
   "execution_count": 24,
   "metadata": {},
   "outputs": [
    {
     "name": "stdout",
     "output_type": "stream",
     "text": [
      "[10, 7, 4, 1]\n"
     ]
    }
   ],
   "source": [
    "list4 = [1,4,7,10]\n",
    "def reversel(l):\n",
    "    lis = []\n",
    "    for i in range(len(l)):\n",
    "        pooped = l.pop()\n",
    "        lis.append(pooped)\n",
    "    return lis\n",
    "print(reversel(list4))"
   ]
  },
  {
   "cell_type": "code",
   "execution_count": 25,
   "metadata": {},
   "outputs": [
    {
     "name": "stdout",
     "output_type": "stream",
     "text": [
      "['niwahb', 'niban', 'atig', 'alak']\n"
     ]
    }
   ],
   "source": [
    "list5 = ['bhawin','nabin','gita','kala']\n",
    "def rever(l):\n",
    "    lisc = []\n",
    "    for i in l:\n",
    "        lisc.append(i[::-1])\n",
    "    return lisc\n",
    "print(rever(list5))"
   ]
  },
  {
   "cell_type": "markdown",
   "metadata": {},
   "source": [
    "# class for a dog"
   ]
  },
  {
   "cell_type": "code",
   "execution_count": 30,
   "metadata": {},
   "outputs": [
    {
     "name": "stdout",
     "output_type": "stream",
     "text": [
      "Raju is 5 and laju is 6.\n"
     ]
    }
   ],
   "source": [
    "class Dog:\n",
    "    species = 'animal'\n",
    "    def __init__(self,name,age):\n",
    "        self.name = name\n",
    "        self.age = age\n",
    "        \n",
    "#make the object for the class\n",
    "Raju = Dog(\"Raju\",5)\n",
    "laju = Dog(\"laju\",6)\n",
    "print(\"{} is {} and {} is {}.\" .format(Raju.name,Raju.age,laju.name,laju.age))"
   ]
  },
  {
   "cell_type": "markdown",
   "metadata": {},
   "source": [
    "# Define a function which take a list as an argument and return two list separately/ even and odd numbers"
   ]
  },
  {
   "cell_type": "code",
   "execution_count": 35,
   "metadata": {},
   "outputs": [
    {
     "name": "stdout",
     "output_type": "stream",
     "text": [
      "[[2, 4, 6, 8], [1, 3, 5, 7]]\n"
     ]
    }
   ],
   "source": [
    "list1 = [1,2,3,4,5,6,7,8]\n",
    "def funct1(list):\n",
    "    list2 = []\n",
    "    list3 = []\n",
    "    for i in list1:\n",
    "        if i%2==0:\n",
    "            list2.append(i)\n",
    "        else:\n",
    "            list3.append(i)\n",
    "    return [list2,list3]\n",
    "print(funct1(list1))"
   ]
  },
  {
   "cell_type": "code",
   "execution_count": 37,
   "metadata": {},
   "outputs": [
    {
     "name": "stdout",
     "output_type": "stream",
     "text": [
      "[10, 40, 'mango']\n"
     ]
    }
   ],
   "source": [
    "list1 = [10,20,30,40,'mango','apple','banana']\n",
    "list2 = [10,200,40,'mango']\n",
    "def common(l1,l2):\n",
    "    list3 = []\n",
    "    for i in l1:\n",
    "        if i in l2:\n",
    "            list3.append(i)\n",
    "    return list3\n",
    "print(common(list1,list2))\n"
   ]
  },
  {
   "cell_type": "code",
   "execution_count": 39,
   "metadata": {},
   "outputs": [
    {
     "name": "stdout",
     "output_type": "stream",
     "text": [
      "496\n"
     ]
    }
   ],
   "source": [
    "# difference between items in the list\n",
    "lis = [111,20,4,6,7,100,500]\n",
    "def max_dif(l):\n",
    "    return max(l) - min(l)\n",
    "print(max_dif(lis))"
   ]
  },
  {
   "cell_type": "code",
   "execution_count": 44,
   "metadata": {},
   "outputs": [
    {
     "name": "stdout",
     "output_type": "stream",
     "text": [
      "3\n"
     ]
    }
   ],
   "source": [
    "# number of lists inside the list.\n",
    "l1 = [1,2,34,[1,2,3],[10,20,30],[100,200,500]]\n",
    "def inside(l):\n",
    "    count = 0\n",
    "    for i in l:\n",
    "        if type(i) ==list:\n",
    "            count = count + 1\n",
    "    return count\n",
    "print(inside(l1))"
   ]
  },
  {
   "cell_type": "code",
   "execution_count": 46,
   "metadata": {},
   "outputs": [
    {
     "name": "stdout",
     "output_type": "stream",
     "text": [
      "[1, 3, 4, 5, 6, 7, 8]\n"
     ]
    }
   ],
   "source": [
    "list = [1,2,3,4,5,6,7,8]\n",
    "list.pop(1)\n",
    "print(list)# pop function out the items in the list"
   ]
  },
  {
   "cell_type": "markdown",
   "metadata": {},
   "source": [
    "# Tuples"
   ]
  },
  {
   "cell_type": "code",
   "execution_count": 47,
   "metadata": {},
   "outputs": [
    {
     "name": "stdout",
     "output_type": "stream",
     "text": [
      "1\n",
      "2\n",
      "3\n",
      "4\n",
      "9.0\n"
     ]
    }
   ],
   "source": [
    "tup = (1,2,3,4,9.0)\n",
    "for i in tup:\n",
    "    print(i)"
   ]
  },
  {
   "cell_type": "code",
   "execution_count": 48,
   "metadata": {},
   "outputs": [
    {
     "name": "stdout",
     "output_type": "stream",
     "text": [
      "<class 'tuple'>\n"
     ]
    }
   ],
   "source": [
    "# tuple with one element\n",
    "nam = (1,)\n",
    "print(type(nam))"
   ]
  },
  {
   "cell_type": "code",
   "execution_count": 50,
   "metadata": {},
   "outputs": [
    {
     "name": "stdout",
     "output_type": "stream",
     "text": [
      "Gita\n"
     ]
    }
   ],
   "source": [
    "name = (\"bhawin\",\"Gita\")\n",
    "name1, name2=name\n",
    "print(name2)"
   ]
  },
  {
   "cell_type": "code",
   "execution_count": 52,
   "metadata": {},
   "outputs": [
    {
     "name": "stdout",
     "output_type": "stream",
     "text": [
      "(1, 2, 3, [5, 6, 7, 'grapes'])\n"
     ]
    }
   ],
   "source": [
    "# List inside tuple\n",
    "tup1 = (1,2,3,[5,6,7])\n",
    "tup1[3].append(\"grapes\")\n",
    "print(tup1)"
   ]
  },
  {
   "cell_type": "code",
   "execution_count": 53,
   "metadata": {},
   "outputs": [
    {
     "name": "stdout",
     "output_type": "stream",
     "text": [
      "(8, 15)\n"
     ]
    }
   ],
   "source": [
    "def tup1(a,b):\n",
    "    add = a+b\n",
    "    multiply = a*b\n",
    "    return add,multiply\n",
    "print(tup1(3,5))"
   ]
  },
  {
   "cell_type": "code",
   "execution_count": 3,
   "metadata": {},
   "outputs": [
    {
     "name": "stdout",
     "output_type": "stream",
     "text": [
      "(1, 2, 3, 4, 5, 6, 7, 8, 9)\n",
      "[1, 2, 3, 4, 5, 6, 7, 8, 9]\n"
     ]
    }
   ],
   "source": [
    "nums = tuple(range(1,10))\n",
    "print(nums)\n",
    "nums1 = list(range(1,10))\n",
    "print(nums1)"
   ]
  },
  {
   "cell_type": "markdown",
   "metadata": {},
   "source": [
    "# Play with dictionary "
   ]
  },
  {
   "cell_type": "code",
   "execution_count": 4,
   "metadata": {},
   "outputs": [
    {
     "data": {
      "text/plain": [
       "dict"
      ]
     },
     "execution_count": 4,
     "metadata": {},
     "output_type": "execute_result"
    }
   ],
   "source": [
    "dict1 = {\"name\":\"bhawin\",'age':30}\n",
    "type(dict1)"
   ]
  },
  {
   "cell_type": "code",
   "execution_count": 5,
   "metadata": {},
   "outputs": [
    {
     "name": "stdout",
     "output_type": "stream",
     "text": [
      "{'name': 'bhawin', 'age': 30}\n"
     ]
    }
   ],
   "source": [
    "test1 = dict(name = 'bhawin',age =30)\n",
    "print(test1)"
   ]
  },
  {
   "cell_type": "code",
   "execution_count": 7,
   "metadata": {},
   "outputs": [
    {
     "name": "stdout",
     "output_type": "stream",
     "text": [
      "30\n"
     ]
    }
   ],
   "source": [
    "x = dict(name = 'bhawin',age = 30,country = \"Nepal\")\n",
    "print(x['age'])"
   ]
  },
  {
   "cell_type": "code",
   "execution_count": 8,
   "metadata": {},
   "outputs": [
    {
     "name": "stdout",
     "output_type": "stream",
     "text": [
      "present\n"
     ]
    }
   ],
   "source": [
    "#you can store anything in the dictionary\n",
    "z = dict(name = \"bhawin\",age=30,country = \"Nepal\",lis=[1,2,3,5])\n",
    "if [1,2,3,5] in z.values():\n",
    "    print(\"present\")\n",
    "else:\n",
    "    print(\"not present\")"
   ]
  },
  {
   "cell_type": "code",
   "execution_count": 12,
   "metadata": {},
   "outputs": [
    {
     "name": "stdout",
     "output_type": "stream",
     "text": [
      "not present\n"
     ]
    }
   ],
   "source": [
    "#you can store anything in the dictionary\n",
    "z = dict(name = \"bhawin\",age=30,country = \"Nepal\",lis=[1,2,3,5])\n",
    "if \"Gita\" in z.values():\n",
    "    print(\"present\")\n",
    "else:\n",
    "    print(\"not present\")"
   ]
  },
  {
   "cell_type": "markdown",
   "metadata": {},
   "source": [
    "# Loops in a dictionary"
   ]
  },
  {
   "cell_type": "code",
   "execution_count": 13,
   "metadata": {},
   "outputs": [
    {
     "name": "stdout",
     "output_type": "stream",
     "text": [
      "Bhawin\n",
      "30\n",
      "ODU\n",
      "EIC\n"
     ]
    }
   ],
   "source": [
    "dic = {\n",
    "    'name':'Bhawin',\n",
    "    'age':30,\n",
    "    'University': \"ODU\",\n",
    "    'project':'EIC'\n",
    "}\n",
    "for i in dic:\n",
    "    print(dic[i])\n",
    "\n"
   ]
  },
  {
   "cell_type": "markdown",
   "metadata": {},
   "source": [
    "# Add and delete method"
   ]
  },
  {
   "cell_type": "code",
   "execution_count": 14,
   "metadata": {},
   "outputs": [
    {
     "name": "stdout",
     "output_type": "stream",
     "text": [
      "{'name': 'bhawin', 'age': 35, 'favorite_songs': ['Gobinda bolo hari', 'namskar chha']}\n"
     ]
    }
   ],
   "source": [
    "dict3 = {\n",
    "    'name':'bhawin',\n",
    "    'age':35\n",
    "}\n",
    "dict3['favorite_songs']=['Gobinda bolo hari','namskar chha']\n",
    "print(dict3)"
   ]
  },
  {
   "cell_type": "markdown",
   "metadata": {},
   "source": [
    "# pop method in dictionary"
   ]
  },
  {
   "cell_type": "code",
   "execution_count": 16,
   "metadata": {},
   "outputs": [
    {
     "name": "stdout",
     "output_type": "stream",
     "text": [
      "EIC\n",
      "{'name': 'Bhawin', 'age': 30, 'University': 'ODU'}\n"
     ]
    }
   ],
   "source": [
    "dict4 = {\n",
    "    'name':'Bhawin',\n",
    "    'age':30,\n",
    "    'University': \"ODU\",\n",
    "    'project':'EIC'\n",
    "}\n",
    "poped_item = dict4.pop('project')\n",
    "print(poped_item)\n",
    "print(dict4)"
   ]
  },
  {
   "cell_type": "markdown",
   "metadata": {},
   "source": [
    "# Update dictionary"
   ]
  },
  {
   "cell_type": "code",
   "execution_count": 17,
   "metadata": {},
   "outputs": [
    {
     "name": "stdout",
     "output_type": "stream",
     "text": [
      "{'name': 'Nabin', 'age': 30, 'University': 'ODU', 'project': 'EIC', 'relation': 'bhai'}\n"
     ]
    }
   ],
   "source": [
    "dict5 ={\n",
    "    'name':'Bhawin',\n",
    "    'age':30,\n",
    "    'University': \"ODU\",\n",
    "    'project':'EIC'\n",
    "    \n",
    "}\n",
    "dict6 = {'name':'Nabin','relation':'bhai'}\n",
    "dict5.update(dict6)\n",
    "print(dict5)"
   ]
  },
  {
   "cell_type": "markdown",
   "metadata": {},
   "source": [
    "# More with function"
   ]
  },
  {
   "cell_type": "code",
   "execution_count": 19,
   "metadata": {},
   "outputs": [
    {
     "name": "stdout",
     "output_type": "stream",
     "text": [
      "{1: 1, 2: 8, 3: 27, 4: 64, 5: 125, 6: 216, 7: 343, 8: 512, 9: 729, 10: 1000}\n"
     ]
    }
   ],
   "source": [
    "def cube_dice(a):\n",
    "    cube = {}\n",
    "    for i in range(1,a+1):\n",
    "        cube[i] = i**3\n",
    "    return cube\n",
    "print(cube_dice(10))"
   ]
  },
  {
   "cell_type": "code",
   "execution_count": 20,
   "metadata": {},
   "outputs": [
    {
     "name": "stdout",
     "output_type": "stream",
     "text": [
      "{'b': 1, 'h': 2, 'a': 2, 'w': 1, 'i': 2, 'n': 1, ' ': 1, 'd': 1, 't': 1, 'l': 1}\n"
     ]
    }
   ],
   "source": [
    "def word_counter(s):\n",
    "    count={}\n",
    "    for i in s:\n",
    "        count[i]=s.count(i)\n",
    "    return count\n",
    "print(word_counter('bhawin dhital'))"
   ]
  },
  {
   "cell_type": "markdown",
   "metadata": {},
   "source": [
    "# Class Definition"
   ]
  },
  {
   "cell_type": "code",
   "execution_count": 24,
   "metadata": {},
   "outputs": [
    {
     "name": "stdout",
     "output_type": "stream",
     "text": [
      "bhawin\n",
      "dhital\n",
      "30\n"
     ]
    }
   ],
   "source": [
    "class person:\n",
    "    def __init__(self,first_name,last_name,age):\n",
    "        self.first_name = first_name\n",
    "        self.last_name = last_name\n",
    "        self.age =age\n",
    "p1=person('bhawin','dhital',30)\n",
    "p2=person('salman','khan',55)\n",
    "print(p1.first_name)\n",
    "print(p1.last_name)\n",
    "print(p1.age)       "
   ]
  },
  {
   "cell_type": "code",
   "execution_count": 25,
   "metadata": {},
   "outputs": [
    {
     "name": "stdout",
     "output_type": "stream",
     "text": [
      "$1000\n",
      "Dell_i7\n"
     ]
    }
   ],
   "source": [
    "class Laptop:\n",
    "    def __init__(self,model_name,color,price):\n",
    "        self.model = model_name\n",
    "        self.color = color\n",
    "        self.price = price\n",
    "l1 = Laptop(\"Dell_i7\",'silver','$1000')\n",
    "print(l1.price)\n",
    "print(l1.model)"
   ]
  },
  {
   "cell_type": "markdown",
   "metadata": {},
   "source": [
    "# Discount"
   ]
  },
  {
   "cell_type": "code",
   "execution_count": 28,
   "metadata": {},
   "outputs": [
    {
     "name": "stdout",
     "output_type": "stream",
     "text": [
      "4750.0\n"
     ]
    }
   ],
   "source": [
    "class Discount:\n",
    "    def __init__(self,a):\n",
    "        self.a = a\n",
    "    def total_discount(self):\n",
    "        b = self.a - 5*self.a/100\n",
    "        return b\n",
    "disc1 = Discount(5000)\n",
    "print(disc1.total_discount())"
   ]
  },
  {
   "cell_type": "markdown",
   "metadata": {},
   "source": [
    "# Circle class"
   ]
  },
  {
   "cell_type": "code",
   "execution_count": 29,
   "metadata": {},
   "outputs": [
    {
     "name": "stdout",
     "output_type": "stream",
     "text": [
      "78.53975\n",
      "31.4159\n",
      "{'radius': 5, 'pi': 3.14159}\n"
     ]
    }
   ],
   "source": [
    "class Circle:\n",
    "    def __init__(self,radius, pi):\n",
    "        self.radius = radius\n",
    "        self.pi = pi\n",
    "    def area(self):\n",
    "        a = self.pi*self.radius**2\n",
    "        return a\n",
    "    def circumference(self):\n",
    "        b = 2*self.pi*self.radius\n",
    "        return b\n",
    "A = Circle(5,3.14159)\n",
    "print(A.area())\n",
    "print(A.circumference())\n",
    "print(A.__dict__)"
   ]
  },
  {
   "cell_type": "code",
   "execution_count": null,
   "metadata": {},
   "outputs": [],
   "source": []
  }
 ],
 "metadata": {
  "kernelspec": {
   "display_name": "Python 3",
   "language": "python",
   "name": "python3"
  },
  "language_info": {
   "codemirror_mode": {
    "name": "ipython",
    "version": 3
   },
   "file_extension": ".py",
   "mimetype": "text/x-python",
   "name": "python",
   "nbconvert_exporter": "python",
   "pygments_lexer": "ipython3",
   "version": "3.7.4"
  }
 },
 "nbformat": 4,
 "nbformat_minor": 2
}
